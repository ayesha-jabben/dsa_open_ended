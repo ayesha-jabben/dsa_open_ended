{
  "nbformat": 4,
  "nbformat_minor": 0,
  "metadata": {
    "colab": {
      "provenance": []
    },
    "kernelspec": {
      "name": "python3",
      "display_name": "Python 3"
    },
    "language_info": {
      "name": "python"
    }
  },
  "cells": [
    {
      "cell_type": "code",
      "execution_count": 28,
      "metadata": {
        "colab": {
          "base_uri": "https://localhost:8080/"
        },
        "id": "qcXgf5iprBIA",
        "outputId": "e51dead5-c348-40fb-c123-1d1f171ce3f1"
      },
      "outputs": [
        {
          "output_type": "stream",
          "name": "stdout",
          "text": [
            "66 55 44 33 None\n",
            "66 33 None\n"
          ]
        }
      ],
      "source": [
        "class Node:\n",
        "  def __init__(self):\n",
        "    #creating node with head and next\n",
        "    self.data = None\n",
        "    self.next = None\n",
        "\n",
        "class LinkedList:\n",
        "  def __init__(self):\n",
        "    self.head = None\n",
        "\n",
        "    #inserting through head\n",
        "  def insert_head(self, new_data):\n",
        "    new_node = Node()\n",
        "    new_node.data = new_data #storing data\n",
        "    new_node.next = self.head  #connencting newnode's next to self.head\n",
        "    self.head = new_node #craeting new node head\n",
        "\n",
        "\n",
        "  def display(self):\n",
        "    #displaying data\n",
        "    temp = self.head\n",
        "    while(temp):\n",
        "       print(temp.data, end=\" \")\n",
        "       temp = temp.next\n",
        "    print(temp)\n",
        "\n",
        "\n",
        "  def find_and_del(self, index, no_of_nodes):\n",
        "    if self.head is None:\n",
        "       return None\n",
        "\n",
        "    crr = self.head\n",
        "    prev = None\n",
        "    while crr is not None:\n",
        "      #checking if self.head is empty\n",
        "      if crr.data == index:\n",
        "         break\n",
        "         #storing crr node to an variable prev\n",
        "      prev = crr\n",
        "      crr = crr.next\n",
        "\n",
        "      if crr is None:\n",
        "         return\n",
        "      #traversing through list\n",
        "      for _ in range(no_of_nodes):\n",
        "       if crr is None:\n",
        "          break\n",
        "\n",
        "       temp = crr\n",
        "       crr = crr.next\n",
        "      #checking if previous node is empty\n",
        "       if prev is not None:\n",
        "          prev.next = crr\n",
        "       else:\n",
        "          self.head = crr\n",
        "\n",
        "      temp = None\n",
        "\n",
        "\n",
        "\n",
        "ll = LinkedList()\n",
        "ll.insert_head(33)\n",
        "ll.insert_head(44)\n",
        "ll.insert_head(55)\n",
        "ll.insert_head(66)\n",
        "ll.display()\n",
        "ll.find_and_del(1,2)\n",
        "ll.display()\n"
      ]
    },
    {
      "cell_type": "code",
      "source": [],
      "metadata": {
        "id": "3QXv7rmZsxJ4"
      },
      "execution_count": null,
      "outputs": []
    },
    {
      "cell_type": "code",
      "source": [],
      "metadata": {
        "id": "kIiysWuKsxHg"
      },
      "execution_count": null,
      "outputs": []
    },
    {
      "cell_type": "code",
      "source": [],
      "metadata": {
        "id": "RzZiaEDGsxE4"
      },
      "execution_count": null,
      "outputs": []
    }
  ]
}